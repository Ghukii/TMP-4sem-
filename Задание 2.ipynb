{
 "cells": [
  {
   "cell_type": "markdown",
   "id": "c619598a-f678-4d83-bb2c-b940c13ab22c",
   "metadata": {},
   "source": [
    "## Практическая 2"
   ]
  },
  {
   "cell_type": "markdown",
   "id": "9b213ff3-50ef-4623-b2a5-e09d1d254d81",
   "metadata": {},
   "source": [
    "### Вариант 12"
   ]
  },
  {
   "cell_type": "markdown",
   "id": "3fc0c2d3-afe3-4a25-be53-0a2e27ad0702",
   "metadata": {},
   "source": [
    "1. Создать случайную матрицу 2x10 целых чисел от 1 до 2 и определить, есть ли в массиве нулевые столбцы. Программа должна вернуть индексы нулевых колонок, либо выдать сообщение об их отсутствии."
   ]
  },
  {
   "cell_type": "code",
   "execution_count": 19,
   "id": "0e5e8bee-ebbb-437d-901c-0421dac7d5d2",
   "metadata": {},
   "outputs": [
    {
     "name": "stdout",
     "output_type": "stream",
     "text": [
      "[[2 1 1 2 0 0 2 1 0 1]\n",
      " [1 1 2 2 2 0 1 0 0 1]]\n",
      "\n",
      "Нулевые столбцы: 5 8\n"
     ]
    }
   ],
   "source": [
    "import numpy as np\n",
    "\n",
    "np.random.seed(12)\n",
    "\n",
    "a = np.random.randint(3, size=(2, 10))\n",
    "\n",
    "print(a, end=\"\\n\\n\")\n",
    "\n",
    "columns = list()\n",
    "for i in range(len(a[0])):\n",
    "    if a[0][i] == 0 and a[1][i] == 0:\n",
    "        columns.append(i)\n",
    "\n",
    "if columns:\n",
    "    print(\"Нулевые столбцы:\", end=\" \")\n",
    "    print(*columns)\n",
    "else:\n",
    "    print(\"Нулевых столбцов нет\")"
   ]
  },
  {
   "cell_type": "markdown",
   "id": "af0536ff-bbae-4f75-a0b9-be209ddf84ed",
   "metadata": {},
   "source": [
    "2. Создайте произвольную матрицу 3x3 и нормализуйте ее."
   ]
  },
  {
   "cell_type": "code",
   "execution_count": 34,
   "id": "6f563b6a-2cd2-49c6-8e92-f60aba80cdd5",
   "metadata": {},
   "outputs": [
    {
     "name": "stdout",
     "output_type": "stream",
     "text": [
      "[[11 11  6]\n",
      " [ 1  2  3]\n",
      " [ 3  0  6]]\n",
      "\n",
      "Нормализованная матрица:\n",
      "[[0.59920818 0.59920818 0.32684083]\n",
      " [0.05447347 0.10894694 0.16342041]\n",
      " [0.16342041 0.         0.32684083]]\n"
     ]
    }
   ],
   "source": [
    "np.random.seed(12)\n",
    "\n",
    "a = np.random.randint(12, size=(3, 3))\n",
    "print(a, end=\"\\n\\n\")\n",
    "\n",
    "a = a / np.linalg.norm(a)\n",
    "\n",
    "print(\"Нормализованная матрица:\")\n",
    "print(a)"
   ]
  },
  {
   "cell_type": "markdown",
   "id": "3c665ddb-fd40-4c98-a3de-4210e77abf94",
   "metadata": {},
   "source": [
    "Известны номера n серверов, к которым были адресованы последние m запросов.\n",
    "Так же известно время ответа каждого сервера на запрос (в секундах).\n",
    "Необходимо написать программу, которая определит суммарное и среднее время\n",
    "ответа каждого сервера из n серверов на отправленные ему запросы.\n",
    "Исходные данные:\n",
    "можно присвоить любые целые значения\n",
    "m – кол-во последних запросов к серверам\n",
    "n – кол-во серверов\n",
    "Номера серверов, к которым были адресованы последние m запросов и время\n",
    "ответов серверов на последние m запросов сгенерировать случайным образом исходя из\n",
    "заданных значений m и n."
   ]
  },
  {
   "cell_type": "code",
   "execution_count": null,
   "id": "ab0372ff-5a01-4a1c-bdc8-7068c4ee60de",
   "metadata": {},
   "outputs": [],
   "source": []
  }
 ],
 "metadata": {
  "kernelspec": {
   "display_name": "Python 3 (ipykernel)",
   "language": "python",
   "name": "python3"
  },
  "language_info": {
   "codemirror_mode": {
    "name": "ipython",
    "version": 3
   },
   "file_extension": ".py",
   "mimetype": "text/x-python",
   "name": "python",
   "nbconvert_exporter": "python",
   "pygments_lexer": "ipython3",
   "version": "3.12.2"
  }
 },
 "nbformat": 4,
 "nbformat_minor": 5
}
