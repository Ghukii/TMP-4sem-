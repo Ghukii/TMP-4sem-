{
 "cells": [
  {
   "cell_type": "markdown",
   "id": "e3ed985b-1be4-4f5e-be4e-dcc4924b9b93",
   "metadata": {},
   "source": [
    "# Практическая 1"
   ]
  },
  {
   "cell_type": "markdown",
   "id": "c87638a7-22c4-4e10-8a46-65b258f4a48b",
   "metadata": {},
   "source": [
    "### Вариант 12"
   ]
  },
  {
   "cell_type": "markdown",
   "id": "8cd4892a-3afa-47bf-bbc1-27239ee6980f",
   "metadata": {},
   "source": [
    "1. В одномерном списке, состоящем из N вещественных элементов, вычислить:\n",
    "- количество элементов, расположенное между элементами, у которых дробная часть\n",
    "максимальна и минимальна;\n",
    "- сумму целых частей положительных элементов списка.\n",
    "Изменить порядок следования элементов в списке на обратный."
   ]
  },
  {
   "cell_type": "code",
   "execution_count": 9,
   "id": "db7af76a-11f8-4810-b9bf-c876d77fab10",
   "metadata": {},
   "outputs": [
    {
     "name": "stdin",
     "output_type": "stream",
     "text": [
      "Введите кол-во элементов: 20\n"
     ]
    },
    {
     "name": "stdout",
     "output_type": "stream",
     "text": [
      "Ответ: кол-во элементов между макс и мин - 3\n",
      " сумма положительных элементов - 975.0\n",
      " Обратный порядок следования элементов - [16.07167531 76.81341541 48.53774137 55.20376333 52.12260272  0.22592335\n",
      " 85.27355411 94.42251361 60.60831844 28.3828353  13.72093214 95.69493363\n",
      "  3.34214276 90.07148541 91.87470081  1.45749625 53.37393934 26.33150152\n",
      " 74.00496965 15.41628424]\n"
     ]
    }
   ],
   "source": [
    "import numpy as np\n",
    "\n",
    "np.random.seed(12)\n",
    "\n",
    "N = int(input(\"Введите кол-во элементов:\"))\n",
    "a = np.random.rand(N) * 100\n",
    "drob = a % 1\n",
    "tzel = a // 1\n",
    "\n",
    "ma, mi = np.max(drob), np.min(drob)\n",
    "id_ma, id_mi = np.where(drob == ma)[0][0], np.where(drob == mi)[0][0]\n",
    "\n",
    "tzel = tzel[tzel >= 0]\n",
    "sum_tzel = np.sum(tzel)\n",
    "\n",
    "res = np.flip(a)\n",
    "\n",
    "print(f'Ответ: кол-во элементов между макс и мин - {np.abs(id_ma - id_mi - 1)}\\n сумма положительных элементов - {sum_tzel}\\n Обратный порядок следования элементов - {res}')"
   ]
  },
  {
   "cell_type": "markdown",
   "id": "69531694-68b9-4278-bbe7-806300e41baf",
   "metadata": {},
   "source": [
    "2. Разработать программу, которая выводит на экран слова, являющиеся положительными шестнадцатеричными константами Python."
   ]
  },
  {
   "cell_type": "code",
   "execution_count": 28,
   "id": "954c6a00-8f06-425b-b18c-b0ad40c84045",
   "metadata": {},
   "outputs": [
    {
     "name": "stdin",
     "output_type": "stream",
     "text": [
      "Введите слова через пробел: 0X123\n"
     ]
    },
    {
     "name": "stdout",
     "output_type": "stream",
     "text": [
      "Слова, являющиеся положительными шестнадцатеричными константами Python: \n",
      "0X123 "
     ]
    }
   ],
   "source": [
    "s = input(\"Введите слова через пробел:\").split()\n",
    "\n",
    "def chek(s):\n",
    "    \n",
    "    if len(s) < 3:\n",
    "        return False\n",
    "        \n",
    "    if s[0] == '0' and s[1] in 'xX':\n",
    "        for i in s[2:]:\n",
    "            if i not in \"abcdefABCDEF0123456789\":\n",
    "                return False\n",
    "        return True\n",
    "    return False\n",
    "\n",
    "flag = True\n",
    "for word in s:\n",
    "    if chek(word):\n",
    "        if flag:\n",
    "            print(\"Слова, являющиеся положительными шестнадцатеричными константами Python: \")\n",
    "            flag = False\n",
    "        print(word, end=\" \")\n",
    "if flag:\n",
    "    print(\"Слов, являющихся положительными шестнадцатеричными константами Python не найдено\")"
   ]
  },
  {
   "cell_type": "markdown",
   "id": "b616849f-b551-449d-9fb1-06d2f1ca4d86",
   "metadata": {},
   "source": [
    "3. На вход программы подается строка. Если в этой строке более одного символа,\n",
    "программа должна вывести на экран предпоследний символ этой строки."
   ]
  },
  {
   "cell_type": "code",
   "execution_count": 8,
   "id": "6d7c5df1-6c9d-4044-9f95-3e98cb1986cc",
   "metadata": {},
   "outputs": [],
   "source": [
    "def func(s):\n",
    "    print(f'Предпоследний символ: {s[-2]}')"
   ]
  },
  {
   "cell_type": "code",
   "execution_count": null,
   "id": "01573c81-36b9-431a-8c66-ac304489a0e1",
   "metadata": {},
   "outputs": [],
   "source": []
  }
 ],
 "metadata": {
  "kernelspec": {
   "display_name": "Python 3 (ipykernel)",
   "language": "python",
   "name": "python3"
  },
  "language_info": {
   "codemirror_mode": {
    "name": "ipython",
    "version": 3
   },
   "file_extension": ".py",
   "mimetype": "text/x-python",
   "name": "python",
   "nbconvert_exporter": "python",
   "pygments_lexer": "ipython3",
   "version": "3.12.2"
  }
 },
 "nbformat": 4,
 "nbformat_minor": 5
}
